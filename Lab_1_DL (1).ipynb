{
  "nbformat": 4,
  "nbformat_minor": 0,
  "metadata": {
    "colab": {
      "provenance": []
    },
    "kernelspec": {
      "name": "python3",
      "display_name": "Python 3"
    },
    "language_info": {
      "name": "python"
    }
  },
  "cells": [
    {
      "cell_type": "code",
      "execution_count": null,
      "metadata": {
        "colab": {
          "base_uri": "https://localhost:8080/"
        },
        "id": "oGv898q8mFWS",
        "outputId": "a23f355f-fc87-4689-ace4-8ca2be6af3f7"
      },
      "outputs": [
        {
          "output_type": "stream",
          "name": "stdout",
          "text": [
            "Tensor: [[ 9.247681   1.8706456 18.105057   8.396138  11.45101  ]\n",
            " [16.947342  15.848382  18.719984   7.328684  11.448613 ]\n",
            " [17.26648    3.1537142  7.258832  16.786196  13.909014 ]\n",
            " [ 6.062689   2.1527667 14.045347   8.45727   12.795698 ]\n",
            " [12.290527  18.275225   7.926074  19.677822  18.503042 ]]\n",
            "Sum: 297.92426\n",
            "Mean: 11.91697\n",
            "Max: 19.677822\n",
            "3D Tensor: [[[12.717478   9.4507475  8.395277 ]\n",
            "  [ 6.2855515 10.429748  19.383698 ]\n",
            "  [13.286725   4.872589  17.02681  ]]\n",
            "\n",
            " [[ 2.1010027 19.98514   15.350741 ]\n",
            "  [ 8.380186  19.285057   6.12648  ]\n",
            "  [ 3.247065   1.8579595 13.500707 ]]\n",
            "\n",
            " [[13.325823   9.756042  18.78207  ]\n",
            "  [ 1.2866532  9.406218   2.566707 ]\n",
            "  [15.630391   3.2925322 12.555785 ]]]\n",
            "Specific Element (1,1,1): 19.285057\n",
            "2D Slice: [[ 2.1010027 19.98514   15.350741 ]\n",
            " [ 8.380186  19.285057   6.12648  ]\n",
            " [ 3.247065   1.8579595 13.500707 ]]\n",
            "1D Slice: [ 8.380186 19.285057  6.12648 ]\n"
          ]
        }
      ],
      "source": [
        "import tensorflow as tf\n",
        "import numpy as np\n",
        "\n",
        "# Task 1.1: Create a TensorFlow tensor with random float values and compute sum, mean, max\n",
        "tensor = tf.random.uniform(shape=(5, 5), minval=1, maxval=20, dtype=tf.float32)\n",
        "sum_tensor = tf.reduce_sum(tensor)\n",
        "mean_tensor = tf.reduce_mean(tensor)\n",
        "max_tensor = tf.reduce_max(tensor)\n",
        "\n",
        "print(\"Tensor:\", tensor.numpy())\n",
        "print(\"Sum:\", sum_tensor.numpy())\n",
        "print(\"Mean:\", mean_tensor.numpy())\n",
        "print(\"Max:\", max_tensor.numpy())\n",
        "\n",
        "# Task 1.2: Create a 3D TensorFlow tensor and access specific elements\n",
        "tensor_3d = tf.random.uniform(shape=(3, 3, 3), minval=1, maxval=20, dtype=tf.float32)\n",
        "print(\"3D Tensor:\", tensor_3d.numpy())\n",
        "print(\"Specific Element (1,1,1):\", tensor_3d.numpy()[1, 1, 1])\n",
        "print(\"2D Slice:\", tensor_3d.numpy()[1, :, :])\n",
        "print(\"1D Slice:\", tensor_3d.numpy()[1, 1, :])"
      ]
    },
    {
      "cell_type": "code",
      "source": [
        "# Task 2: Function for tensor operations\n",
        "def tensor_operations(tensor1, tensor2):\n",
        "    tensor1 = tf.constant(tensor1, dtype=tf.float32)\n",
        "    tensor2 = tf.constant(tensor2, dtype=tf.float32)\n",
        "    return {\n",
        "        \"addition\": tf.add(tensor1, tensor2).numpy(),\n",
        "        \"subtraction\": tf.subtract(tensor1, tensor2).numpy(),\n",
        "        \"multiplication\": tf.multiply(tensor1, tensor2).numpy(),\n",
        "        \"division\": tf.divide(tensor1, tensor2).numpy()\n",
        "    }\n",
        "\n",
        "tensor1 = [15, 25, 35]\n",
        "tensor2 = [6, 12, 18]\n",
        "result = tensor_operations(tensor1, tensor2)\n",
        "\n",
        "print(\"Addition:\\n\", result[\"addition\"])\n",
        "print(\"Subtraction:\\n\", result[\"subtraction\"])\n",
        "print(\"Multiplication:\\n\", result[\"multiplication\"])\n",
        "print(\"Division:\\n\", result[\"division\"])\n"
      ],
      "metadata": {
        "colab": {
          "base_uri": "https://localhost:8080/"
        },
        "id": "8QFGsPIeshxX",
        "outputId": "90ef8e0a-3e12-4ca1-b551-4f42cb305328"
      },
      "execution_count": null,
      "outputs": [
        {
          "output_type": "stream",
          "name": "stdout",
          "text": [
            "Addition:\n",
            " [21. 37. 53.]\n",
            "Subtraction:\n",
            " [ 9. 13. 17.]\n",
            "Multiplication:\n",
            " [ 90. 300. 630.]\n",
            "Division:\n",
            " [2.5       2.0833333 1.9444444]\n"
          ]
        }
      ]
    },
    {
      "cell_type": "code",
      "source": [
        "# Task 3.1: Create a NumPy array, sort in ascending and descending order\n",
        "array = np.random.rand(10) * 100\n",
        "ascending_sorted = np.sort(array)\n",
        "descending_sorted = np.sort(array)[::-1]\n",
        "print(\"Original Array:\", array)\n",
        "print(\"Ascending Sorted:\", ascending_sorted)\n",
        "print(\"Descending Sorted:\", descending_sorted)\n",
        "\n",
        "# Task 3.2: Create a 2x2 NumPy matrix, compute transpose and inverse\n",
        "matrix = np.random.rand(2, 2) * 50\n",
        "transpose = np.transpose(matrix)\n",
        "inverse = np.linalg.inv(matrix)\n",
        "print(\"Matrix:\", matrix)\n",
        "print(\"Transpose:\", transpose)\n",
        "print(\"Inverse:\", inverse)\n",
        "\n",
        "# Task 3.3: Create a 2D NumPy array, compute row sum, column mean, and standard deviation\n",
        "matrix_2d = np.random.rand(3, 3) * 10\n",
        "row_sums = np.sum(matrix_2d, axis=1)\n",
        "column_means = np.mean(matrix_2d, axis=0)\n",
        "std_dev = np.std(matrix_2d)\n",
        "print(\"2D Array:\", matrix_2d)\n",
        "print(\"Row Sums:\", row_sums)\n",
        "print(\"Column Means:\", column_means)\n",
        "print(\"Standard Deviation:\", std_dev)"
      ],
      "metadata": {
        "colab": {
          "base_uri": "https://localhost:8080/"
        },
        "id": "RlOZ3RXQujsA",
        "outputId": "7ac11ce7-bea2-4533-8c6c-4f87168fb1ee"
      },
      "execution_count": null,
      "outputs": [
        {
          "output_type": "stream",
          "name": "stdout",
          "text": [
            "Original Array: [65.04720208 12.49195295 34.85919308 68.75630517 78.00278438 60.33716736\n",
            " 66.28003707 32.9695672  49.6133579  64.15653081]\n",
            "Ascending Sorted: [12.49195295 32.9695672  34.85919308 49.6133579  60.33716736 64.15653081\n",
            " 65.04720208 66.28003707 68.75630517 78.00278438]\n",
            "Descending Sorted: [78.00278438 68.75630517 66.28003707 65.04720208 64.15653081 60.33716736\n",
            " 49.6133579  34.85919308 32.9695672  12.49195295]\n",
            "Matrix: [[48.86086609  6.2069003 ]\n",
            " [32.78945274 41.06981965]]\n",
            "Transpose: [[48.86086609 32.78945274]\n",
            " [ 6.2069003  41.06981965]]\n",
            "Inverse: [[ 0.02277625 -0.00344219]\n",
            " [-0.01818418  0.02709696]]\n",
            "2D Array: [[4.5970664  2.82196524 9.4881169 ]\n",
            " [0.57471179 1.67026823 4.01872887]\n",
            " [1.92126779 5.92456254 7.65187901]]\n",
            "Row Sums: [16.90714854  6.26370888 15.49770934]\n",
            "Column Means: [2.36434866 3.47226534 7.05290826]\n",
            "Standard Deviation: 2.780773684637187\n"
          ]
        }
      ]
    }
  ]
}